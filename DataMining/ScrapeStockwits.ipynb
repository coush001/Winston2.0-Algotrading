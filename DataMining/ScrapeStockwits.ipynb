{
 "cells": [
  {
   "cell_type": "code",
   "execution_count": 1,
   "id": "ccdc4470",
   "metadata": {},
   "outputs": [],
   "source": [
    "from bs4 import BeautifulSoup\n",
    "from selenium import webdriver\n",
    "from webdriver_manager.chrome import ChromeDriverManager\n",
    "from datetime import datetime\n",
    "import csv"
   ]
  },
  {
   "cell_type": "code",
   "execution_count": 2,
   "id": "0b90bd44",
   "metadata": {},
   "outputs": [
    {
     "name": "stderr",
     "output_type": "stream",
     "text": [
      "/var/folders/5c/p41fpsts3xx71rmzxs3twj_h0000gn/T/ipykernel_74251/2826073064.py:3: DeprecationWarning: executable_path has been deprecated, please pass in a Service object\n",
      "  driver = webdriver.Chrome(ChromeDriverManager().install())\n"
     ]
    },
    {
     "name": "stdout",
     "output_type": "stream",
     "text": [
      "Record inserted successfully into stocknote table\n"
     ]
    }
   ],
   "source": [
    "#function that will return soup from a url\n",
    "def get_soup(url=\"https://stocktwits.com/rankings/watchers\"):\n",
    "    driver = webdriver.Chrome(ChromeDriverManager().install())\n",
    "    driver.set_page_load_timeout(100)\n",
    "    driver.get(url)\n",
    "    soup = BeautifulSoup(driver.page_source, 'html.parser')\n",
    "    return soup\n",
    "\n",
    "def get_data_list(soup):\n",
    "    # get All of the table row elements\n",
    "    table_rows = soup.find_all('tr', class_='st_PaKabGw st_1jzr122')\n",
    "    # for each row get ticker, count of new watches in 24 hours and the price move in 24 hours\n",
    "    output_data = []\n",
    "    for i in table_rows:\n",
    "        ticker = i.find('span', class_='st_3ua_jwB st_8u0ePN3 st_1SuHTwr') # get ticker by class \n",
    "        count = i.find_all('td') # get count of watches as first td tag\n",
    "        price_move = i.find_all('span')[-1] # get price move as the last span \n",
    "        if len(price_move['class'])<4:\n",
    "            sign = 0\n",
    "        elif price_move['class'][3] == 'st_3ftxMPa': # identify if pos or neg based on class\n",
    "            sign = 1\n",
    "        elif price_move['class'][3] == 'st_16rsg3e':\n",
    "            sign = -1\n",
    "        strip_price_move = float(price_move.text.rstrip('%'))\n",
    "        price_move = sign * strip_price_move\n",
    "        now = datetime.now().strftime(\"%d/%m/%Y %H:%M:%S\")\n",
    "#         print(now, \" \", ticker.text, \" \", count[3].text,\" \",price_move)\n",
    "        output_data.append([now,ticker.text, count[3].text, price_move])\n",
    "    return output_data    \n",
    "\n",
    "def insert_rows(data):\n",
    "    field_names = ['datetime', 'ticker', 'watchers', 'pricemove']\n",
    "  \n",
    "    for i in data:\n",
    "        dict = {\"datetime\": i[0], \"ticker\":i[1],\"watchers\":i[2], \"pricemove\":i[3],}\n",
    "        with open('./data/stockwitswatched.csv', 'a') as csv_file:\n",
    "            dict_object = csv.DictWriter(csv_file, fieldnames=field_names) \n",
    "            dict_object.writerow(dict)\n",
    "    print(\"Record inserted successfully into stocknote table\")\n",
    "\n",
    "def main():\n",
    "    soup = get_soup()\n",
    "    data = get_data_list(soup)\n",
    "    insert_rows(data)\n",
    "    return\n",
    "    \n",
    "data = main()\n"
   ]
  },
  {
   "cell_type": "code",
   "execution_count": null,
   "id": "7fa1af79",
   "metadata": {},
   "outputs": [],
   "source": []
  },
  {
   "cell_type": "code",
   "execution_count": null,
   "id": "0179e620",
   "metadata": {},
   "outputs": [],
   "source": []
  },
  {
   "cell_type": "code",
   "execution_count": null,
   "id": "a66ff6a1",
   "metadata": {},
   "outputs": [],
   "source": []
  },
  {
   "cell_type": "code",
   "execution_count": null,
   "id": "41981fab",
   "metadata": {},
   "outputs": [],
   "source": []
  }
 ],
 "metadata": {
  "kernelspec": {
   "display_name": "Python 3 (ipykernel)",
   "language": "python",
   "name": "python3"
  },
  "language_info": {
   "codemirror_mode": {
    "name": "ipython",
    "version": 3
   },
   "file_extension": ".py",
   "mimetype": "text/x-python",
   "name": "python",
   "nbconvert_exporter": "python",
   "pygments_lexer": "ipython3",
   "version": "3.9.12"
  }
 },
 "nbformat": 4,
 "nbformat_minor": 5
}
