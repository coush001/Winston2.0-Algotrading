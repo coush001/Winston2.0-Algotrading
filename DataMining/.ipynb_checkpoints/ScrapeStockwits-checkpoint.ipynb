{
 "cells": [
  {
   "cell_type": "code",
   "execution_count": 1,
   "id": "ccdc4470",
   "metadata": {},
   "outputs": [],
   "source": [
    "import requests\n",
    "from bs4 import BeautifulSoup\n",
    "from bs4 import Comment\n",
    "from selenium import webdriver\n",
    "from webdriver_manager.chrome import ChromeDriverManager\n",
    "import time\n",
    "from datetime import datetime\n",
    "import mysql.connector"
   ]
  },
  {
   "cell_type": "code",
   "execution_count": 2,
   "id": "0b90bd44",
   "metadata": {},
   "outputs": [],
   "source": [
    "#function that will return soup from a url\n",
    "def get_soup(url=\"https://stocktwits.com/rankings/watchers\"):\n",
    "    driver = webdriver.Chrome(ChromeDriverManager().install())\n",
    "    driver.set_page_load_timeout(100)\n",
    "    driver.get(url)\n",
    "    soup = BeautifulSoup(driver.page_source, 'html.parser')\n",
    "    return soup\n",
    "\n",
    "def get_data_list(soup):\n",
    "    # get All of the table row elements\n",
    "    table_rows = soup.find_all('tr', class_='st_PaKabGw st_1jzr122')\n",
    "    # for each row get ticker, count of new watches in 24 hours and the price move in 24 hours\n",
    "    output_data = []\n",
    "    for i in table_rows:\n",
    "        ticker = i.find('span', class_='st_3ua_jwB st_8u0ePN3 st_1SuHTwr') # get ticker by class \n",
    "        count = i.find_all('td') # get count of watches as first td tag\n",
    "        price_move = i.find_all('span')[-1] # get price move as the last span \n",
    "        if len(price_move['class'])<4:\n",
    "            sign = 0\n",
    "        elif price_move['class'][3] == 'st_3ftxMPa': # identify if pos or neg based on class\n",
    "            sign = 1\n",
    "        elif price_move['class'][3] == 'st_16rsg3e':\n",
    "            sign = -1\n",
    "        strip_price_move = float(price_move.text.rstrip('%'))\n",
    "        price_move = sign * strip_price_move\n",
    "        now = datetime.now().strftime(\"%d/%m/%Y %H:%M:%S\")\n",
    "#         print(now, \" \", ticker.text, \" \", count[3].text,\" \",price_move)\n",
    "        output_data.append([now,ticker.text, count[3].text, price_move])\n",
    "    return output_data\n",
    "\n",
    "def get_cursor():\n",
    "    mydb = mysql.connector.connect(\n",
    "      host=\"35.246.42.55\",\n",
    "      user=\"root\",\n",
    "      password=\"RF/o<_4eyHm`>&^e\"\n",
    "    )\n",
    "    mycursor = mydb.cursor()\n",
    "    mycursor.execute(\"use stocks\")\n",
    "    return mycursor, mydb\n",
    "\n",
    "def select_all(mycursor, mydb):\n",
    "    mycursor.execute(\"use stocks\")\n",
    "    mycursor.execute(\"show tables\")\n",
    "    print(mycursor.fetchall())\n",
    "    mycursor.execute(\"select * from stocknote\")\n",
    "    print(mycursor.fetchall())\n",
    "    print('shown all rows')\n",
    "    \n",
    "def drop_all(mycursor, mydb):\n",
    "    mycursor.execute(\"use stocks\")\n",
    "    mycursor.execute(\"delete from stocknote\")\n",
    "    mydb.commit()\n",
    "    print('deleted all rows')\n",
    "    \n",
    "\n",
    "def insert_rows(data, cursor, connection):\n",
    "    for i in data:\n",
    "        mySql_insert_query = \"\"\"INSERT INTO stocknote (datetime,ticker,watchers,pricechange) \n",
    "                            VALUES (%s, %s, %s, %s) \"\"\"\n",
    "\n",
    "        record = (i[0], i[1], i[2], i[3])\n",
    "        cursor.execute(mySql_insert_query, record)\n",
    "        connection.commit()\n",
    "        print(\"Record inserted successfully into stocknote table\")\n"
   ]
  },
  {
   "cell_type": "code",
   "execution_count": 3,
   "id": "7fa1af79",
   "metadata": {},
   "outputs": [],
   "source": [
    "def main():\n",
    "\n",
    "    soup = get_soup()\n",
    "    data = get_data_list(soup)\n",
    "    cursor, db = get_cursor()\n",
    "    select_all(cursor, db)\n",
    "    drop_all(cursor, db)\n",
    "    insert_rows(data, cursor, db)\n",
    "\n",
    "    return\n",
    "    \n",
    "# data = main()"
   ]
  },
  {
   "cell_type": "code",
   "execution_count": 7,
   "id": "0179e620",
   "metadata": {},
   "outputs": [
    {
     "name": "stdout",
     "output_type": "stream",
     "text": [
      "[('stocknote',)]\n",
      "[]\n",
      "shown all rows\n",
      "deleted all rows\n"
     ]
    }
   ],
   "source": [
    "# soup = get_soup()\n",
    "#data = get_data_list(soup)\n",
    "# cursor, db = get_cursor()\n",
    "# select_all(cursor, db)\n",
    "# drop_all(cursor, db)\n",
    "#insert_rows(data, cursor, db)"
   ]
  },
  {
   "cell_type": "code",
   "execution_count": null,
   "id": "a66ff6a1",
   "metadata": {},
   "outputs": [],
   "source": []
  }
 ],
 "metadata": {
  "kernelspec": {
   "display_name": "Python 3 (ipykernel)",
   "language": "python",
   "name": "python3"
  },
  "language_info": {
   "codemirror_mode": {
    "name": "ipython",
    "version": 3
   },
   "file_extension": ".py",
   "mimetype": "text/x-python",
   "name": "python",
   "nbconvert_exporter": "python",
   "pygments_lexer": "ipython3",
   "version": "3.9.12"
  }
 },
 "nbformat": 4,
 "nbformat_minor": 5
}
