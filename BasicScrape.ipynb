{
 "cells": [
  {
   "cell_type": "code",
   "execution_count": 103,
   "id": "ccdc4470",
   "metadata": {},
   "outputs": [],
   "source": [
    "import requests\n",
    "from bs4 import BeautifulSoup\n",
    "from bs4 import Comment\n",
    "from selenium import webdriver\n",
    "from webdriver_manager.chrome import ChromeDriverManager\n",
    "import time\n",
    "from datetime import datetime\n",
    "import mysql.connector"
   ]
  },
  {
   "cell_type": "code",
   "execution_count": 104,
   "id": "0b90bd44",
   "metadata": {},
   "outputs": [],
   "source": [
    "#function that will return soup from a url\n",
    "def get_soup(url=\"https://stocktwits.com/rankings/watchers\"):\n",
    "    driver = webdriver.Chrome(ChromeDriverManager().install())\n",
    "    driver.set_page_load_timeout(100)\n",
    "    driver.get(url)\n",
    "    soup = BeautifulSoup(driver.page_source, 'html.parser')\n",
    "    return soup\n",
    "\n",
    "def get_data_list(soup):\n",
    "    # get All of the table row elements\n",
    "    table_rows = soup.find_all('tr', class_='st_PaKabGw st_1jzr122')\n",
    "    # for each row get ticker, count of new watches in 24 hours and the price move in 24 hours\n",
    "    output_data = []\n",
    "    for i in table_rows:\n",
    "        ticker = i.find('span', class_='st_3ua_jwB st_8u0ePN3 st_1SuHTwr') # get ticker by class \n",
    "        count = i.find_all('td') # get count of watches as first td tag\n",
    "        price_move = i.find_all('span')[-1] # get price move as the last span \n",
    "        if len(price_move['class'])<4:\n",
    "            sign = 0\n",
    "        elif price_move['class'][3] == 'st_3ftxMPa': # identify if pos or neg based on class\n",
    "            sign = 1\n",
    "        elif price_move['class'][3] == 'st_16rsg3e':\n",
    "            sign = -1\n",
    "        strip_price_move = float(price_move.text.rstrip('%'))\n",
    "        price_move = sign * strip_price_move\n",
    "        now = datetime.now().strftime(\"%d/%m/%Y %H:%M:%S\")\n",
    "#         print(now, \" \", ticker.text, \" \", count[3].text,\" \",price_move)\n",
    "        output_data.append([now,ticker.text, count[3].text, price_move])\n",
    "    return output_data\n",
    "\n",
    "def get_cursor():\n",
    "    mydb = mysql.connector.connect(\n",
    "      host=\"35.246.42.55\",\n",
    "      user=\"root\",\n",
    "      password=\"RF/o<_4eyHm`>&^e\"\n",
    "    )\n",
    "    mycursor = mydb.cursor()\n",
    "    mycursor.execute(\"use stocks\")\n",
    "    return mycursor, mydb\n",
    "\n",
    "def select_all(mycursor, mydb):\n",
    "    mycursor.execute(\"use stocks\")\n",
    "    mycursor.execute(\"show tables\")\n",
    "    print(mycursor.fetchall())\n",
    "    mycursor.execute(\"select * from stocknote\")\n",
    "    print(mycursor.fetchall())\n",
    "    print('shown all rows')\n",
    "    \n",
    "def drop_all(mycursor, mydb):\n",
    "    mycursor.execute(\"use stocks\")\n",
    "    mycursor.execute(\"delete from stocknote\")\n",
    "    mydb.commit()\n",
    "    print('deleted all rows')\n",
    "    \n",
    "\n",
    "def insert_rows(data, cursor, connection):\n",
    "    for i in data:\n",
    "        mySql_insert_query = \"\"\"INSERT INTO stocknote (datetime,ticker,watchers,pricechange) \n",
    "                            VALUES (%s, %s, %s, %s) \"\"\"\n",
    "\n",
    "        record = (i[0], i[1], i[2], i[3])\n",
    "        cursor.execute(mySql_insert_query, record)\n",
    "        connection.commit()\n",
    "        print(\"Record inserted successfully into stocknote table\")\n"
   ]
  },
  {
   "cell_type": "code",
   "execution_count": 78,
   "id": "5d69a7bb",
   "metadata": {},
   "outputs": [
    {
     "name": "stderr",
     "output_type": "stream",
     "text": [
      "/var/folders/5c/p41fpsts3xx71rmzxs3twj_h0000gn/T/ipykernel_38798/1179943068.py:3: DeprecationWarning: executable_path has been deprecated, please pass in a Service object\n",
      "  driver = webdriver.Chrome(ChromeDriverManager().install())\n"
     ]
    },
    {
     "name": "stdout",
     "output_type": "stream",
     "text": [
      "[['19/08/2022 16:59:26', 'GCT', '2958', 193.18], ['19/08/2022 16:59:26', 'BBBY', '1881', -37.79], ['19/08/2022 16:59:26', 'MNMD', '1243', 0.98], ['19/08/2022 16:59:26', 'WEBR', '940', -11.0], ['19/08/2022 16:59:26', 'SMMT', '517', 14.0], ['19/08/2022 16:59:26', 'DRUG', '481', -21.2], ['19/08/2022 16:59:26', 'AAPL', '394', -1.11], ['19/08/2022 16:59:26', 'INDO', '386', -4.34], ['19/08/2022 16:59:26', 'TSLA', '347', -2.8], ['19/08/2022 16:59:26', 'AMZN', '330', -2.71]]\n",
      "<mysql.connector.connection.MySQLConnection object at 0x7fb2a2eda310>\n",
      "[('stocknote',)]\n",
      "[('now', ' AAPL', '10', '-100')]\n",
      "['19/08/2022 16:59:26', 'GCT', '2958', 193.18]\n",
      "['19/08/2022 16:59:26', 'BBBY', '1881', -37.79]\n",
      "['19/08/2022 16:59:26', 'MNMD', '1243', 0.98]\n",
      "['19/08/2022 16:59:26', 'WEBR', '940', -11.0]\n",
      "['19/08/2022 16:59:26', 'SMMT', '517', 14.0]\n",
      "['19/08/2022 16:59:26', 'DRUG', '481', -21.2]\n",
      "['19/08/2022 16:59:26', 'AAPL', '394', -1.11]\n",
      "['19/08/2022 16:59:26', 'INDO', '386', -4.34]\n",
      "['19/08/2022 16:59:26', 'TSLA', '347', -2.8]\n",
      "['19/08/2022 16:59:26', 'AMZN', '330', -2.71]\n",
      "(19/08/2022 16:59:26, GCT, 2958, 193.18),(19/08/2022 16:59:26, BBBY, 1881, -37.79),(19/08/2022 16:59:26, MNMD, 1243, 0.98),(19/08/2022 16:59:26, WEBR, 940, -11.0),(19/08/2022 16:59:26, SMMT, 517, 14.0),(19/08/2022 16:59:26, DRUG, 481, -21.2),(19/08/2022 16:59:26, AAPL, 394, -1.11),(19/08/2022 16:59:26, INDO, 386, -4.34),(19/08/2022 16:59:26, TSLA, 347, -2.8),(19/08/2022 16:59:26, AMZN, 330, -2.71)\n",
      "INSERT INTO stocknote (datetime,ticker,watchers,pricechange) VALUES (19/08/2022 16:59:26, GCT, 2958, 193.18),(19/08/2022 16:59:26, BBBY, 1881, -37.79),(19/08/2022 16:59:26, MNMD, 1243, 0.98),(19/08/2022 16:59:26, WEBR, 940, -11.0),(19/08/2022 16:59:26, SMMT, 517, 14.0),(19/08/2022 16:59:26, DRUG, 481, -21.2),(19/08/2022 16:59:26, AAPL, 394, -1.11),(19/08/2022 16:59:26, INDO, 386, -4.34),(19/08/2022 16:59:26, TSLA, 347, -2.8),(19/08/2022 16:59:26, AMZN, 330, -2.71)\n"
     ]
    }
   ],
   "source": [
    "def main():\n",
    "\n",
    "    soup = get_soup()\n",
    "    data = get_data_list(soup)\n",
    "    cursor, db = get_cursor()\n",
    "    select_all(cursor, db)\n",
    "    drop_all(cursor, db)\n",
    "    insert_rows(data, cursor, db)\n",
    "\n",
    "    return\n",
    "    \n",
    "data = main()"
   ]
  },
  {
   "cell_type": "code",
   "execution_count": 114,
   "id": "32117b70",
   "metadata": {},
   "outputs": [
    {
     "name": "stdout",
     "output_type": "stream",
     "text": [
      "[('stocknote',)]\n",
      "[('19/08/2022 17:17:50', 'GCT', '3028', '177.31'), ('19/08/2022 17:17:50', 'BBBY', '1866', '-35.42'), ('19/08/2022 17:17:50', 'MNMD', '1163', '2.45'), ('19/08/2022 17:17:50', 'WEBR', '930', '-8.5'), ('19/08/2022 17:17:50', 'SMMT', '506', '17.0'), ('19/08/2022 17:17:50', 'AAPL', '392', '-1.13'), ('19/08/2022 17:17:50', 'TSLA', '350', '-2.7'), ('19/08/2022 17:17:50', 'BTC-X', '336', '-8.07'), ('19/08/2022 17:17:50', 'AMZN', '322', '-2.54'), ('19/08/2022 17:17:50', 'SPY', '311', '-1.19')]\n",
      "shown all rows\n"
     ]
    }
   ],
   "source": [
    "#soup = get_soup()\n",
    "#data = get_data_list(soup)\n",
    "#cursor, db = get_cursor()\n",
    "select_all(cursor, db)\n",
    "#drop_all(cursor, db)\n",
    "#insert_rows(data, cursor, db)"
   ]
  },
  {
   "cell_type": "code",
   "execution_count": null,
   "id": "2015312e",
   "metadata": {},
   "outputs": [],
   "source": []
  }
 ],
 "metadata": {
  "kernelspec": {
   "display_name": "Python 3 (ipykernel)",
   "language": "python",
   "name": "python3"
  },
  "language_info": {
   "codemirror_mode": {
    "name": "ipython",
    "version": 3
   },
   "file_extension": ".py",
   "mimetype": "text/x-python",
   "name": "python",
   "nbconvert_exporter": "python",
   "pygments_lexer": "ipython3",
   "version": "3.9.12"
  }
 },
 "nbformat": 4,
 "nbformat_minor": 5
}
